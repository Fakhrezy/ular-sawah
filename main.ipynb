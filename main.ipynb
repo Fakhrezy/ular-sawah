{
 "cells": [
  {
   "cell_type": "code",
   "execution_count": 3,
   "metadata": {},
   "outputs": [
    {
     "name": "stdout",
     "output_type": "stream",
     "text": [
      "nilai a :  10\n",
      "nilai x :  5\n",
      "nilai panjang :  1000\n"
     ]
    }
   ],
   "source": [
    "# variabel adalah tempat menyimpan data\n",
    "a = 10\n",
    "x = 5\n",
    "panjang = 1000\n",
    "\n",
    "print(\"nilai a : \",a)\n",
    "print(\"nilai x : \",x)\n",
    "print(\"nilai panjang : \",panjang)"
   ]
  },
  {
   "cell_type": "code",
   "execution_count": 5,
   "metadata": {},
   "outputs": [
    {
     "name": "stdout",
     "output_type": "stream",
     "text": [
      "nilai a :  7\n",
      "nilai b :  7\n"
     ]
    }
   ],
   "source": [
    "# output berubah sesuai update\n",
    "a = 7\n",
    "print(\"nilai a : \",a)\n",
    "\n",
    "# assigment indirect\n",
    "b = a\n",
    "print(\"nilai b : \",b)"
   ]
  },
  {
   "cell_type": "code",
   "execution_count": 22,
   "metadata": {},
   "outputs": [
    {
     "name": "stdout",
     "output_type": "stream",
     "text": [
      "==INTEGER==\n",
      "data : 1.0 , type :  <class 'float'>\n",
      "data : 1 , type :  <class 'str'>\n",
      "data : True , type :  <class 'bool'>\n"
     ]
    }
   ],
   "source": [
    "# casting tipe data\n",
    "print(\"==INTEGER==\")\n",
    "data_int = 1\n",
    "\n",
    "data_float = float(data_int)\n",
    "data_str = str(data_int)\n",
    "data_bool = bool(data_int) #false jika nilai = 0\n",
    "\n",
    "print(\"data :\", data_float, \", type : \", type(data_float))\n",
    "print(\"data :\", data_str, \", type : \", type(data_str))\n",
    "print(\"data :\", data_bool, \", type : \", type(data_bool))"
   ]
  },
  {
   "cell_type": "code",
   "execution_count": 13,
   "metadata": {},
   "outputs": [
    {
     "name": "stdout",
     "output_type": "stream",
     "text": [
      "==FLOAT==\n",
      "data : 9 , type :  <class 'int'>\n",
      "data : 9.9 , type :  <class 'str'>\n",
      "data : True , type :  <class 'bool'>\n"
     ]
    }
   ],
   "source": [
    "# casting tipe data\n",
    "print(\"==FLOAT==\")\n",
    "data_float = 9.9\n",
    "\n",
    "data_int = int(data_float)\n",
    "data_str = str(data_float)\n",
    "data_bool = bool(data_float) #false jika nilai = 0\n",
    "\n",
    "print(\"data :\", data_int, \", type : \", type(data_int))\n",
    "print(\"data :\", data_str, \", type : \", type(data_str))\n",
    "print(\"data :\", data_bool, \", type : \", type(data_bool))"
   ]
  },
  {
   "cell_type": "code",
   "execution_count": 20,
   "metadata": {},
   "outputs": [
    {
     "name": "stdout",
     "output_type": "stream",
     "text": [
      "==BOOLEAN==\n",
      "data : 0 , type :  <class 'int'>\n",
      "data : 0 , type :  <class 'str'>\n",
      "data : 0.0 , type :  <class 'float'>\n"
     ]
    }
   ],
   "source": [
    "# casting tipe data\n",
    "print(\"==BOOLEAN==\")\n",
    "data_bool = True\n",
    "\n",
    "data_int = int(data_bool)\n",
    "data_str = str(data_bool)\n",
    "data_float = float(data_bool) #false jika nilai = 0\n",
    "\n",
    "print(\"data :\", data_int, \", type : \", type(data_int))\n",
    "print(\"data :\", data_str, \", type : \", type(data_str))\n",
    "print(\"data :\", data_float, \", type : \", type(data_float))"
   ]
  },
  {
   "cell_type": "code",
   "execution_count": 19,
   "metadata": {},
   "outputs": [
    {
     "name": "stdout",
     "output_type": "stream",
     "text": [
      "==STRING==\n",
      "data : 10 , type :  <class 'int'>\n",
      "data : True , type :  <class 'bool'>\n",
      "data : 10.0 , type :  <class 'float'>\n"
     ]
    }
   ],
   "source": [
    "# casting tipe data\n",
    "print(\"==STRING==\")\n",
    "data_str = \"10\"\n",
    "\n",
    "data_int = int(data_str)#string harus angka\n",
    "data_float = float(data_str)#string harus angka\n",
    "data_bool = bool(data_str) #false jika nilai = 0\n",
    "\n",
    "print(\"data :\", data_int, \", type : \", type(data_int))\n",
    "print(\"data :\", data_bool, \", type : \", type(data_bool)) #false jika string kosong\n",
    "print(\"data :\", data_float, \", type : \", type(data_float))"
   ]
  }
 ],
 "metadata": {
  "kernelspec": {
   "display_name": "Python 3",
   "language": "python",
   "name": "python3"
  },
  "language_info": {
   "codemirror_mode": {
    "name": "ipython",
    "version": 3
   },
   "file_extension": ".py",
   "mimetype": "text/x-python",
   "name": "python",
   "nbconvert_exporter": "python",
   "pygments_lexer": "ipython3",
   "version": "3.11.7"
  }
 },
 "nbformat": 4,
 "nbformat_minor": 2
}
